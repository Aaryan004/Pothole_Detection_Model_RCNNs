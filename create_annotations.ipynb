{
 "cells": [
  {
   "cell_type": "code",
   "execution_count": 2,
   "id": "93c61479",
   "metadata": {},
   "outputs": [
    {
     "name": "stdout",
     "output_type": "stream",
     "text": [
      "COCO annotations saved to dataset/val/annotations.json\n"
     ]
    }
   ],
   "source": [
    "import os\n",
    "import json\n",
    "from PIL import Image\n",
    "\n",
    "# Paths\n",
    "image_dir = \"dataset/test/images\"\n",
    "label_dir = \"dataset/val/labels\"\n",
    "output_json = \"dataset/val/annotations.json\"\n",
    "\n",
    "# Helper function to convert YOLO format to COCO bbox\n",
    "def yolo_to_coco_bbox(yolo_bbox, img_width, img_height):\n",
    "    x_center, y_center, width, height = yolo_bbox\n",
    "    x_center *= img_width\n",
    "    y_center *= img_height\n",
    "    width *= img_width\n",
    "    height *= img_height\n",
    "    x_min = x_center - (width / 2)\n",
    "    y_min = y_center - (height / 2)\n",
    "    return [x_min, y_min, width, height]\n",
    "\n",
    "# Initialize COCO format structure\n",
    "coco_format = {\n",
    "    \"images\": [],\n",
    "    \"annotations\": [],\n",
    "    \"categories\": [{\"id\": 1, \"name\": \"pothole\"}]  # Define one category: pothole\n",
    "}\n",
    "\n",
    "annotation_id = 1\n",
    "image_id = 1\n",
    "\n",
    "# Iterate through images and labels\n",
    "for image_filename in os.listdir(image_dir):\n",
    "    if not image_filename.endswith(\".jpg\"):\n",
    "        continue\n",
    "\n",
    "    # Image file details\n",
    "    image_path = os.path.join(image_dir, image_filename)\n",
    "    img = Image.open(image_path)\n",
    "    width, height = img.size\n",
    "\n",
    "    # Add image info to COCO format\n",
    "    coco_format[\"images\"].append({\n",
    "        \"id\": image_id,\n",
    "        \"file_name\": image_filename,\n",
    "        \"width\": width,\n",
    "        \"height\": height\n",
    "    })\n",
    "\n",
    "    # Label file corresponding to the image\n",
    "    label_filename = os.path.splitext(image_filename)[0] + \".txt\"\n",
    "    label_path = os.path.join(label_dir, label_filename)\n",
    "\n",
    "    if os.path.exists(label_path):\n",
    "        with open(label_path, \"r\") as label_file:\n",
    "            for line in label_file:\n",
    "                # YOLO format: class_id x_center y_center width height\n",
    "                parts = line.strip().split()\n",
    "                class_id = int(parts[0])\n",
    "                yolo_bbox = list(map(float, parts[1:]))\n",
    "                coco_bbox = yolo_to_coco_bbox(yolo_bbox, width, height)\n",
    "\n",
    "                # Add annotation info to COCO format\n",
    "                coco_format[\"annotations\"].append({\n",
    "                    \"id\": annotation_id,\n",
    "                    \"image_id\": image_id,\n",
    "                    \"category_id\": class_id + 1,  # Class IDs start from 1 in COCO\n",
    "                    \"bbox\": coco_bbox,\n",
    "                    \"area\": coco_bbox[2] * coco_bbox[3],\n",
    "                    \"iscrowd\": 0\n",
    "                })\n",
    "                annotation_id += 1\n",
    "\n",
    "    image_id += 1\n",
    "\n",
    "# Save COCO annotations to JSON file\n",
    "with open(output_json, \"w\") as f:\n",
    "    json.dump(coco_format, f, indent=4)\n",
    "\n",
    "print(f\"COCO annotations saved to {output_json}\")"
   ]
  },
  {
   "cell_type": "code",
   "execution_count": null,
   "id": "d27927ce",
   "metadata": {},
   "outputs": [],
   "source": []
  }
 ],
 "metadata": {
  "kernelspec": {
   "display_name": "Python 3 (ipykernel)",
   "language": "python",
   "name": "python3"
  },
  "language_info": {
   "codemirror_mode": {
    "name": "ipython",
    "version": 3
   },
   "file_extension": ".py",
   "mimetype": "text/x-python",
   "name": "python",
   "nbconvert_exporter": "python",
   "pygments_lexer": "ipython3",
   "version": "3.11.4"
  }
 },
 "nbformat": 4,
 "nbformat_minor": 5
}
